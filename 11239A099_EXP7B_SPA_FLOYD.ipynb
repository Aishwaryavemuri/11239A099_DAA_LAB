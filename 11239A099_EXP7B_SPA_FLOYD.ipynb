{
  "nbformat": 4,
  "nbformat_minor": 0,
  "metadata": {
    "colab": {
      "provenance": [],
      "authorship_tag": "ABX9TyOx+7MuTw4o255RwrZv4Y0d",
      "include_colab_link": true
    },
    "kernelspec": {
      "name": "python3",
      "display_name": "Python 3"
    },
    "language_info": {
      "name": "python"
    }
  },
  "cells": [
    {
      "cell_type": "markdown",
      "metadata": {
        "id": "view-in-github",
        "colab_type": "text"
      },
      "source": [
        "<a href=\"https://colab.research.google.com/github/Aishwaryavemuri/11239A099_DAA_LAB/blob/main/11239A099_EXP7B_SPA_FLOYD.ipynb\" target=\"_parent\"><img src=\"https://colab.research.google.com/assets/colab-badge.svg\" alt=\"Open In Colab\"/></a>"
      ]
    },
    {
      "cell_type": "code",
      "execution_count": 1,
      "metadata": {
        "colab": {
          "base_uri": "https://localhost:8080/"
        },
        "id": "RhRkSIZBo9H3",
        "outputId": "5ae8eb6f-077d-4e3e-d712-6230dc755a55"
      },
      "outputs": [
        {
          "output_type": "stream",
          "name": "stdout",
          "text": [
            "[0, 1, 2]\n",
            "[2, 0, 1]\n",
            "[1, 2, 0]\n"
          ]
        }
      ],
      "source": [
        "def floyd_warshall(graph):\n",
        "    n = len(graph)\n",
        "    dist = [[graph[i][j] if graph[i][j] != 0 else float('inf') for j in range(n)] for i in range(n)]\n",
        "    for i in range(n):\n",
        "        dist[i][i] = 0\n",
        "    for k in range(n):\n",
        "        for i in range(n):\n",
        "            for j in range(n):\n",
        "                dist[i][j] = min(dist[i][j], dist[i][k] + dist[k][j])\n",
        "    return dist\n",
        "graph = [\n",
        "    [0,1,2,3],\n",
        "    [3, 0 ,1,2],\n",
        "    [1, 3, 2,0],\n",
        "]\n",
        "result = floyd_warshall(graph)\n",
        "for row in result:\n",
        " print(row)"
      ]
    }
  ]
}