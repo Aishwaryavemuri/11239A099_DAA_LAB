{
  "nbformat": 4,
  "nbformat_minor": 0,
  "metadata": {
    "colab": {
      "provenance": [],
      "authorship_tag": "ABX9TyPtw1MKvwPV9pNn13p9jVDS",
      "include_colab_link": true
    },
    "kernelspec": {
      "name": "python3",
      "display_name": "Python 3"
    },
    "language_info": {
      "name": "python"
    }
  },
  "cells": [
    {
      "cell_type": "markdown",
      "metadata": {
        "id": "view-in-github",
        "colab_type": "text"
      },
      "source": [
        "<a href=\"https://colab.research.google.com/github/Aishwaryavemuri/11239A099_DAA_LAB/blob/main/11239A099_EXP6A_MST_PRIM.ipynb\" target=\"_parent\"><img src=\"https://colab.research.google.com/assets/colab-badge.svg\" alt=\"Open In Colab\"/></a>"
      ]
    },
    {
      "cell_type": "code",
      "execution_count": 1,
      "metadata": {
        "colab": {
          "base_uri": "https://localhost:8080/",
          "height": 294
        },
        "id": "CpDRrg7Wp8PJ",
        "outputId": "5d012f5a-0b99-4e80-ad4d-a1233f8f28f2"
      },
      "outputs": [
        {
          "output_type": "stream",
          "name": "stdout",
          "text": [
            "Minimum Spanning Tree: [(0, 1, 10), (0, 2, 6), (0, 3, 5), (3, 1, 15), (3, 2, 4)]\n",
            "Total Weight of MST: 19\n"
          ]
        },
        {
          "output_type": "display_data",
          "data": {
            "text/plain": [
              "<Figure size 300x200 with 1 Axes>"
            ],
            "image/png": "[encoded data removed]"
          },
          "metadata": {}
        }
      ],
      "source": [
        "import heapq\n",
        "import networkx as nx\n",
        "import matplotlib.pyplot as plt\n",
        "\n",
        "def prim(vertices, edges):\n",
        "    adj = {i: [] for i in range(vertices)}\n",
        "    for u, v, weight in edges:\n",
        "        adj[u].append((v, weight))\n",
        "        adj[v].append((u, weight))\n",
        "    pq = [(0, 0)]\n",
        "    visited = [False] * vertices\n",
        "    mst = []\n",
        "    total_weight = 0\n",
        "    while pq:\n",
        "        weight, u = heapq.heappop(pq)\n",
        "        if visited[u]:\n",
        "            continue\n",
        "        visited[u] = True\n",
        "        total_weight += weight\n",
        "        for v, w in adj[u]:\n",
        "            if not visited[v]:\n",
        "                heapq.heappush(pq, (w, v))\n",
        "                mst.append((u, v, w))\n",
        "    return mst, total_weight\n",
        "\n",
        "# Input graph\n",
        "vertices = 4\n",
        "edges = [\n",
        "    (0, 1, 10),\n",
        "    (0, 2, 6),\n",
        "    (0, 3, 5),\n",
        "    (1, 3, 15),\n",
        "    (2, 3, 4)\n",
        "]\n",
        "\n",
        "# Run Prim's algorithm\n",
        "mst, total_weight = prim(vertices, edges)\n",
        "\n",
        "# Print MST and total weight\n",
        "print(\"Minimum Spanning Tree:\", mst)\n",
        "print(\"Total Weight of MST:\", total_weight)\n",
        "\n",
        "# Visualization using networkx and matplotlib\n",
        "G = nx.Graph()\n",
        "# Add edges from MST\n",
        "for u, v, weight in mst:\n",
        "    G.add_edge(u, v, weight=weight)\n",
        "\n",
        "# Draw the graph\n",
        "pos = nx.spring_layout(G)  # Positions for all nodes\n",
        "labels = nx.get_edge_attributes(G, 'weight')  # Edge weights for labels\n",
        "plt.figure(figsize=(3, 2))\n",
        "nx.draw(G, pos, with_labels=True, node_size=15, node_color='lightblue', font_size=6, font_weight='bold', edge_color='gray')\n",
        "nx.draw_networkx_edge_labels(G, pos, edge_labels=labels, font_size=5)\n",
        "\n",
        "plt.title(\"Minimum Spanning Tree (MST)\")\n",
        "plt.show()\n"
      ]
    }
  ]
}