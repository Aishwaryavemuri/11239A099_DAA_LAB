{
  "nbformat": 4,
  "nbformat_minor": 0,
  "metadata": {
    "colab": {
      "provenance": [],
      "authorship_tag": "ABX9TyMlBlRG1QuvAdWh+aYu1Tpj",
      "include_colab_link": true
    },
    "kernelspec": {
      "name": "python3",
      "display_name": "Python 3"
    },
    "language_info": {
      "name": "python"
    }
  },
  "cells": [
    {
      "cell_type": "markdown",
      "metadata": {
        "id": "view-in-github",
        "colab_type": "text"
      },
      "source": [
        "<a href=\"https://colab.research.google.com/github/Aishwaryavemuri/11239A099_DAA_LAB/blob/main/11239A099_EXP4_KGM.ipynb\" target=\"_parent\"><img src=\"https://colab.research.google.com/assets/colab-badge.svg\" alt=\"Open In Colab\"/></a>"
      ]
    },
    {
      "cell_type": "code",
      "execution_count": 1,
      "metadata": {
        "colab": {
          "base_uri": "https://localhost:8080/"
        },
        "id": "yimHTHswJloI",
        "outputId": "8a3b4778-590f-4df3-ae6e-ec956b6b9b7d"
      },
      "outputs": [
        {
          "output_type": "stream",
          "name": "stdout",
          "text": [
            "Maximum Profit: 240.0\n",
            "Items taken (Weight, Profit, Fraction):\n",
            "Weight: 10, Profit: 60, Fraction: 1\n",
            "Weight: 20, Profit: 100, Fraction: 1\n",
            "Weight: 20, Profit: 80.0, Fraction: 0.6666666666666666\n"
          ]
        }
      ],
      "source": [
        "class Item:\n",
        "    def __init__(self, weight, profit):\n",
        "        self.weight = weight\n",
        "        self.profit = profit\n",
        "        self.ratio = profit / weight\n",
        "def fractional_knapsack(capacity, items):\n",
        "    items.sort(key=lambda x: x.ratio, reverse=True)\n",
        "    total_profit = 0.0\n",
        "    knapsack_items = []\n",
        "    for item in items:\n",
        "        if capacity <= 0:\n",
        "            break\n",
        "        if item.weight <= capacity:\n",
        "            capacity -= item.weight\n",
        "            total_profit += item.profit\n",
        "            knapsack_items.append((item.weight, item.profit, 1))\n",
        "        else:\n",
        "            fraction = capacity / item.weight\n",
        "            total_profit += item.profit * fraction\n",
        "            knapsack_items.append((capacity, item.profit * fraction, fraction))\n",
        "            capacity = 0\n",
        "    return total_profit, knapsack_items\n",
        "items = [Item(10, 60), Item(20, 100), Item(30, 120)]\n",
        "capacity = 50\n",
        "max_profit, knapsack_items = fractional_knapsack(capacity, items)\n",
        "print(\"Maximum Profit:\", max_profit)\n",
        "print(\"Items taken (Weight, Profit, Fraction):\")\n",
        "for item in knapsack_items:\n",
        "    print(f\"Weight: {item[0]}, Profit: {item[1]}, Fraction: {item[2]}\")"
      ]
    }
  ]
}