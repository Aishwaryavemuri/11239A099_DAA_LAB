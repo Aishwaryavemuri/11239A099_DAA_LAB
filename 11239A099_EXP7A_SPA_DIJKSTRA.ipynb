{
  "nbformat": 4,
  "nbformat_minor": 0,
  "metadata": {
    "colab": {
      "provenance": [],
      "authorship_tag": "ABX9TyMnI1nQdYRYpxQL8viS3RvL",
      "include_colab_link": true
    },
    "kernelspec": {
      "name": "python3",
      "display_name": "Python 3"
    },
    "language_info": {
      "name": "python"
    }
  },
  "cells": [
    {
      "cell_type": "markdown",
      "metadata": {
        "id": "view-in-github",
        "colab_type": "text"
      },
      "source": [
        "<a href=\"https://colab.research.google.com/github/Aishwaryavemuri/11239A099_DAA_LAB/blob/main/11239A099_EXP7A_SPA_DIJKSTRA.ipynb\" target=\"_parent\"><img src=\"https://colab.research.google.com/assets/colab-badge.svg\" alt=\"Open In Colab\"/></a>"
      ]
    },
    {
      "cell_type": "code",
      "execution_count": 1,
      "metadata": {
        "colab": {
          "base_uri": "https://localhost:8080/"
        },
        "id": "4kivMgcgeT7Y",
        "outputId": "128c150d-f80b-4aa1-8a57-cb6463afaac6"
      },
      "outputs": [
        {
          "output_type": "stream",
          "name": "stdout",
          "text": [
            "+--------+----------------------------+-----------------+\n",
            "| Node   |   Shortest Distance from A | Shortest Path   |\n",
            "+========+============================+=================+\n",
            "| A      |                          0 | A               |\n",
            "+--------+----------------------------+-----------------+\n",
            "| B      |                          1 | A → B           |\n",
            "+--------+----------------------------+-----------------+\n",
            "| C      |                          3 | A → B → C       |\n",
            "+--------+----------------------------+-----------------+\n",
            "| D      |                          4 | A → B → C → D   |\n",
            "+--------+----------------------------+-----------------+\n"
          ]
        }
      ],
      "source": [
        "import heapq\n",
        "from tabulate import tabulate\n",
        "\n",
        "def dijkstra(graph, start):\n",
        "    distances = {vertex: float('inf') for vertex in graph}\n",
        "    distances[start] = 0\n",
        "    previous_vertices = {vertex: None for vertex in graph}\n",
        "    pq = [(0, start)]\n",
        "    while pq:\n",
        "        current_distance, current_vertex = heapq.heappop(pq)\n",
        "        if current_distance > distances[current_vertex]:\n",
        "            continue\n",
        "        for neighbor, weight in graph[current_vertex].items():\n",
        "            distance = current_distance + weight\n",
        "            if distance < distances[neighbor]:\n",
        "                distances[neighbor] = distance\n",
        "                previous_vertices[neighbor] = current_vertex\n",
        "                heapq.heappush(pq, (distance, neighbor))\n",
        "\n",
        "    def reconstruct_path(end):\n",
        "        path = []\n",
        "        while end is not None:\n",
        "            path.append(end)\n",
        "            end = previous_vertices[end]\n",
        "        return path[::-1]\n",
        "\n",
        "    return distances, previous_vertices, reconstruct_path\n",
        "\n",
        "# Example Graph\n",
        "graph = {\n",
        "    'A': {'B': 1, 'C': 4},\n",
        "    'B': {'A': 1, 'C': 2, 'D': 5},\n",
        "    'C': {'A': 4, 'B': 2, 'D': 1},\n",
        "    'D': {'B': 5, 'C': 1}\n",
        "}\n",
        "\n",
        "start_node = 'A'\n",
        "distances, previous_vertices, reconstruct_path = dijkstra(graph, start_node)\n",
        "\n",
        "# Prepare table data\n",
        "table_data = []\n",
        "for node in distances:\n",
        "    path = \" → \".join(reconstruct_path(node))\n",
        "    table_data.append([node, distances[node], path])\n",
        "\n",
        "# Print results as a table\n",
        "headers = [\"Node\", \"Shortest Distance from A\", \"Shortest Path\"]\n",
        "print(tabulate(table_data, headers, tablefmt=\"grid\"))"
      ]
    }
  ]
}