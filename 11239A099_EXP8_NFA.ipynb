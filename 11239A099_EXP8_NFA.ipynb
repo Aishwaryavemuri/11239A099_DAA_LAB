{
  "nbformat": 4,
  "nbformat_minor": 0,
  "metadata": {
    "colab": {
      "provenance": [],
      "authorship_tag": "ABX9TyOt6EKrYyphg+7qP0vnNSMa",
      "include_colab_link": true
    },
    "kernelspec": {
      "name": "python3",
      "display_name": "Python 3"
    },
    "language_info": {
      "name": "python"
    }
  },
  "cells": [
    {
      "cell_type": "markdown",
      "metadata": {
        "id": "view-in-github",
        "colab_type": "text"
      },
      "source": [
        "<a href=\"https://colab.research.google.com/github/Aishwaryavemuri/11239A099_DAA_LAB/blob/main/11239A099_EXP8_NFA.ipynb\" target=\"_parent\"><img src=\"https://colab.research.google.com/assets/colab-badge.svg\" alt=\"Open In Colab\"/></a>"
      ]
    },
    {
      "cell_type": "code",
      "execution_count": 1,
      "metadata": {
        "colab": {
          "base_uri": "https://localhost:8080/"
        },
        "id": "cg8MFfzk2FvL",
        "outputId": "86e8a63a-268e-4d9c-bca7-8fe94b1fac64"
      },
      "outputs": [
        {
          "output_type": "stream",
          "name": "stdout",
          "text": [
            "Max flow: 5\n"
          ]
        }
      ],
      "source": [
        "from collections import deque\n",
        "def bfs(capacity, flow, source, sink, parent):\n",
        "    visited = [False] * len(capacity)\n",
        "    queue = deque([source])\n",
        "    visited[source] = True\n",
        "    while queue:\n",
        "        u = queue.popleft()\n",
        "        for v in range(len(capacity)):\n",
        "            if not visited[v] and capacity[u][v] - flow[u][v] > 0:\n",
        "                parent[v] = u\n",
        "                visited[v] = True\n",
        "                queue.append(v)\n",
        "                if v == sink:\n",
        "                    return True\n",
        "    return False\n",
        "def edmonds_karp(capacity, source, sink):\n",
        "    n = len(capacity)\n",
        "    flow = [[0] * n for _ in range(n)]\n",
        "    parent = [-1] * n\n",
        "    max_flow = 0\n",
        "    while bfs(capacity, flow, source, sink, parent):\n",
        "        path_flow = float('inf')\n",
        "        s = sink\n",
        "        while s != source:\n",
        "            path_flow = min(path_flow, capacity[parent[s]][s] - flow[parent[s]][s])\n",
        "            s = parent[s]\n",
        "        max_flow += path_flow\n",
        "        v = sink\n",
        "        while v != source:\n",
        "            u = parent[v]\n",
        "            flow[u][v] += path_flow\n",
        "            flow[v][u] -= path_flow\n",
        "            v = parent[v]\n",
        "    return max_flow\n",
        "capacity = [\n",
        "    [0, 3, 2, 0],\n",
        "    [0, 0, 1, 3],\n",
        "    [0, 0, 0, 2],\n",
        "    [0, 0, 0, 0]\n",
        "]\n",
        "print(\"Max flow:\", edmonds_karp(capacity,0,3))"
      ]
    }
  ]
}