{
  "nbformat": 4,
  "nbformat_minor": 0,
  "metadata": {
    "colab": {
      "provenance": [],
      "authorship_tag": "ABX9TyMnYvdJSmycq1J1JO7do8O3",
      "include_colab_link": true
    },
    "kernelspec": {
      "name": "python3",
      "display_name": "Python 3"
    },
    "language_info": {
      "name": "python"
    }
  },
  "cells": [
    {
      "cell_type": "markdown",
      "metadata": {
        "id": "view-in-github",
        "colab_type": "text"
      },
      "source": [
        "<a href=\"https://colab.research.google.com/github/Aishwaryavemuri/11239A099_DAA_LAB/blob/main/11239A099_EXP6B_MST_KRUSKAL.ipynb\" target=\"_parent\"><img src=\"https://colab.research.google.com/assets/colab-badge.svg\" alt=\"Open In Colab\"/></a>"
      ]
    },
    {
      "cell_type": "code",
      "execution_count": 1,
      "metadata": {
        "colab": {
          "base_uri": "https://localhost:8080/"
        },
        "id": "bHDB6x4vu64O",
        "outputId": "f9686527-0453-47a6-c7c6-78f0659effac"
      },
      "outputs": [
        {
          "output_type": "stream",
          "name": "stdout",
          "text": [
            "Edges in the Minimum Spanning Tree:\n",
            "2 -- 3 == 4\n",
            "0 -- 3 == 5\n",
            "0 -- 1 == 10\n",
            "Total cost of MST: 19\n"
          ]
        }
      ],
      "source": [
        "class DisjointSet:\n",
        "    def __init__(self, n):\n",
        "        self.parent = list(range(n))\n",
        "        self.rank = [0] * n\n",
        "\n",
        "    def find(self, u):\n",
        "        if self.parent[u] != u:\n",
        "            self.parent[u] = self.find(self.parent[u])\n",
        "        return self.parent[u]\n",
        "\n",
        "    def union(self, u, v):\n",
        "        root_u = self.find(u)\n",
        "        root_v = self.find(v)\n",
        "\n",
        "        if root_u == root_v:\n",
        "            return False\n",
        "\n",
        "        if self.rank[root_u] < self.rank[root_v]:\n",
        "            self.parent[root_u] = root_v\n",
        "        elif self.rank[root_u] > self.rank[root_v]:\n",
        "            self.parent[root_v] = root_u\n",
        "        else:\n",
        "            self.parent[root_v] = root_u\n",
        "            self.rank[root_u] += 1\n",
        "\n",
        "        return True\n",
        "\n",
        "\n",
        "def kruskal(n, edges):\n",
        "    edges.sort(key=lambda x: x[2])\n",
        "\n",
        "    ds = DisjointSet(n)\n",
        "    mst = []\n",
        "    total_weight = 0\n",
        "\n",
        "    for u, v, weight in edges:\n",
        "        if ds.union(u, v):\n",
        "            mst.append((u, v, weight))\n",
        "            total_weight += weight\n",
        "            if len(mst) == n - 1:\n",
        "                break\n",
        "\n",
        "    return mst, total_weight\n",
        "\n",
        "if __name__ == \"__main__\":\n",
        "    nodes = 5\n",
        "    edges = [\n",
        "        (0, 1, 10),\n",
        "        (0, 2, 6),\n",
        "        (0, 3, 5),\n",
        "        (1, 3, 15),\n",
        "        (2, 3, 4)\n",
        "    ]\n",
        "\n",
        "    mst, cost = kruskal(nodes, edges)\n",
        "\n",
        "    print(\"Edges in the Minimum Spanning Tree:\")\n",
        "    for u, v, w in mst:\n",
        "        print(f\"{u} -- {v} == {w}\")\n",
        "    print(\"Total cost of MST:\", cost)\n"
      ]
    }
  ]
}