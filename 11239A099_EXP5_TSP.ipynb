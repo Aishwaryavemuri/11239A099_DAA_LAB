{
  "nbformat": 4,
  "nbformat_minor": 0,
  "metadata": {
    "colab": {
      "provenance": [],
      "authorship_tag": "ABX9TyOVmXCCQYTZGVBbW19HCjXt",
      "include_colab_link": true
    },
    "kernelspec": {
      "name": "python3",
      "display_name": "Python 3"
    },
    "language_info": {
      "name": "python"
    }
  },
  "cells": [
    {
      "cell_type": "markdown",
      "metadata": {
        "id": "view-in-github",
        "colab_type": "text"
      },
      "source": [
        "<a href=\"https://colab.research.google.com/github/Aishwaryavemuri/11239A099_DAA_LAB/blob/main/11239A099_EXP5_TSP.ipynb\" target=\"_parent\"><img src=\"https://colab.research.google.com/assets/colab-badge.svg\" alt=\"Open In Colab\"/></a>"
      ]
    },
    {
      "cell_type": "code",
      "execution_count": 1,
      "metadata": {
        "colab": {
          "base_uri": "https://localhost:8080/"
        },
        "id": "mjJJXvQGM-Ac",
        "outputId": "d3aa26c7-485b-43ec-d880-43c2d48fd1c3"
      },
      "outputs": [
        {
          "output_type": "stream",
          "name": "stdout",
          "text": [
            "The best route is: (0, 1, 3, 2)\n",
            "The minimum distance is: 10.79669127533634\n"
          ]
        }
      ],
      "source": [
        "import itertools\n",
        "import math\n",
        "def distance(city1, city2):\n",
        "    return math.sqrt((city1[0] - city2[0]) ** 2 + (city1[1] - city2[1]) ** 2)\n",
        "def total_distance(route, cities):\n",
        "    dist = 0\n",
        "    for i in range(len(route) - 1):\n",
        "        dist += distance(cities[route[i]], cities[route[i + 1]])\n",
        "    dist += distance(cities[route[-1]], cities[route[0]])\n",
        "    return dist\n",
        "def tsp_bruteforce(cities):\n",
        "    all_routes = itertools.permutations(range(len(cities)))\n",
        "    min_dist = float('inf')\n",
        "    best_route = None\n",
        "    for route in all_routes:\n",
        "        dist = total_distance(route, cities)\n",
        "        if dist < min_dist:\n",
        "            min_dist = dist\n",
        "            best_route = route\n",
        "    return best_route, min_dist\n",
        "cities = [\n",
        "    (0, 0),\n",
        "    (1, 2),\n",
        "    (3, 1),\n",
        "    (4, 3)\n",
        "]\n",
        "best_route, min_dist = tsp_bruteforce(cities)\n",
        "print(f\"The best route is: {best_route}\")\n",
        "print(f\"The minimum distance is: {min_dist}\")\n"
      ]
    }
  ]
}