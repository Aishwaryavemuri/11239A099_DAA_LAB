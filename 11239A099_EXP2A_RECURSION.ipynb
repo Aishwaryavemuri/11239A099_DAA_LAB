{
  "nbformat": 4,
  "nbformat_minor": 0,
  "metadata": {
    "colab": {
      "provenance": [],
      "authorship_tag": "ABX9TyPYKq8QJTcjR8/35sVLzcRM",
      "include_colab_link": true
    },
    "kernelspec": {
      "name": "python3",
      "display_name": "Python 3"
    },
    "language_info": {
      "name": "python"
    }
  },
  "cells": [
    {
      "cell_type": "markdown",
      "metadata": {
        "id": "view-in-github",
        "colab_type": "text"
      },
      "source": [
        "<a href=\"https://colab.research.google.com/github/Aishwaryavemuri/11239A099_DAA_LAB/blob/main/11239A099_EXP2A_RECURSION.ipynb\" target=\"_parent\"><img src=\"https://colab.research.google.com/assets/colab-badge.svg\" alt=\"Open In Colab\"/></a>"
      ]
    },
    {
      "cell_type": "code",
      "execution_count": null,
      "metadata": {
        "id": "WLG93qg7xgOX"
      },
      "outputs": [],
      "source": [
        "def fibonacci(n):\n",
        "    if n <= 1:\n",
        "        return n\n",
        "    else:\n",
        "        return fibonacci(n - 1) + fibonacci(n - 2)\n",
        "n =int(input(\"enter the value of n:\"))\n",
        "result = fibonacci(n)\n",
        "print(f\"The {n}th Fibonacci term is: {result}\")"
      ]
    }
  ]
}